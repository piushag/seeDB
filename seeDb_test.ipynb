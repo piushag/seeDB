{
 "cells": [
  {
   "cell_type": "code",
   "execution_count": 13,
   "id": "cf2c455c",
   "metadata": {},
   "outputs": [],
   "source": [
    "import psycopg2 as ps\n",
    "import psycopg2.extras as e\n",
    "import matplotlib.pyplot as plt\n",
    "import numpy as np\n",
    "import pandas as pd\n",
    "import os"
   ]
  },
  {
   "cell_type": "code",
   "execution_count": 15,
   "id": "ad2c6bfc",
   "metadata": {},
   "outputs": [],
   "source": [
    "\n",
    "PATH_SPLIT_DATA='/Users/piushagullapalli/Documents/Spring_22/645/Project/seeDb/seeDB/Data/splits'\n",
    "\n",
    "def split_data(splits):\n",
    "    data_raw = pd.read_csv(r'/Users/piushagullapalli/Documents/Spring_22/645/Project/seeDb/seeDB/Data/adult.data.txt')\n",
    "    data_split = np.array_split(data_raw, splits)\n",
    "    for k in range(1, len(data_split)+1):\n",
    "        data_split[k-1].to_csv(os.path.join(PATH_SPLIT_DATA ,\"split_{}.csv\".format(k)),encoding='utf-8', index=False)\n",
    "\n",
    "split_data(10)"
   ]
  },
  {
   "cell_type": "code",
   "execution_count": 16,
   "id": "40de33c5",
   "metadata": {},
   "outputs": [],
   "source": [
    "# connect to database\n",
    "con = ps.connect(\"dbname='piushagullapalli' user='piushagullapalli' host='localhost' password=''\")\n",
    "curs = con.cursor()"
   ]
  },
  {
   "cell_type": "code",
   "execution_count": 38,
   "id": "f2a56c97",
   "metadata": {},
   "outputs": [
    {
     "data": {
      "image/png": "[encoded data removed]",
      "text/plain": [
       "<Figure size 432x288 with 1 Axes>"
      ]
     },
     "metadata": {
      "needs_background": "light"
     },
     "output_type": "display_data"
    }
   ],
   "source": [
    "curs.execute(\"\"\"create or replace view married as \n",
    "                   select * from census where marital_status in (' Married-AF-spouse', ' Married-civ-spouse', ' Married-spouse-absent',' Separated');\n",
    "           create or replace view unmarried as \n",
    "                   select * from census where marital_status in (' Never-married', ' Widowed',' Divorced');\"\"\")\n",
    "con.commit()\n",
    "\n",
    "curs.execute(\"SELECT sex, avg(capital_gain) FROM married GROUP BY sex;\")\n",
    "target = curs.fetchall()\n",
    "\n",
    "curs.execute(\"SELECT sex, avg(capital_gain) FROM unmarried GROUP BY sex;\")\n",
    "reference = curs.fetchall()\n",
    "\n",
    "def create_plot(afm, reference, target):\n",
    "    group_attr,function, measure = afm\n",
    "    plt.subplots()\n",
    "    graph1 = plt.bar(np.arange(len(target)), target.values(), 0.4, color = 'b', label = 'married')\n",
    "    graph2 = plt.bar(np.arange(len(target))+0.4, reference.values(), 0.4, color = 'y', label = 'unmarried')\n",
    "    \n",
    "    plt.xlabel('{}'.format(group_attr))\n",
    "    plt.ylabel('{}({})'.format(function, measure))\n",
    "    plt.xticks(np.arange(len(target))+0.4, target.keys())\n",
    "    plt.legend()\n",
    "\n",
    "    plt.show()\n",
    "\n",
    "afm_plot = ('sex', 'AVG', 'capital_gain')\n",
    "create_plot(afm_plot, dict(reference), dict(target))"
   ]
  },
  {
   "cell_type": "code",
   "execution_count": null,
   "id": "5a62bf56",
   "metadata": {},
   "outputs": [],
   "source": []
  },
  {
   "cell_type": "code",
   "execution_count": null,
   "id": "21a0e550",
   "metadata": {},
   "outputs": [],
   "source": []
  },
  {
   "cell_type": "code",
   "execution_count": null,
   "id": "f363416b",
   "metadata": {},
   "outputs": [],
   "source": []
  }
 ],
 "metadata": {
  "kernelspec": {
   "display_name": "Python 3 (ipykernel)",
   "language": "python",
   "name": "python3"
  },
  "language_info": {
   "codemirror_mode": {
    "name": "ipython",
    "version": 3
   },
   "file_extension": ".py",
   "mimetype": "text/x-python",
   "name": "python",
   "nbconvert_exporter": "python",
   "pygments_lexer": "ipython3",
   "version": "3.9.7"
  }
 },
 "nbformat": 4,
 "nbformat_minor": 5
}
