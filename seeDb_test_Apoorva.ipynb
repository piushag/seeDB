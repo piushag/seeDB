{
 "cells": [
  {
   "cell_type": "code",
   "execution_count": 1,
   "id": "3a46ee01",
   "metadata": {},
   "outputs": [
    {
     "name": "stdout",
     "output_type": "stream",
     "text": [
      "Requirement already satisfied: psycopg2 in c:\\users\\apoor\\anaconda3\\lib\\site-packages (2.9.3)\n"
     ]
    }
   ],
   "source": [
    "!pip install psycopg2"
   ]
  },
  {
   "cell_type": "code",
   "execution_count": 1,
   "id": "cf2c455c",
   "metadata": {},
   "outputs": [],
   "source": [
    "import psycopg2 as ps\n",
    "import psycopg2.extras as e\n",
    "import matplotlib.pyplot as plt\n",
    "import numpy as np\n",
    "import pandas as pd\n",
    "import os\n",
    "import itertools as iter"
   ]
  },
  {
   "cell_type": "code",
   "execution_count": 2,
   "id": "ad2c6bfc",
   "metadata": {},
   "outputs": [],
   "source": [
    "\n",
    "PATH_SPLIT_DATA='C:\\\\Users\\\\Public\\\\CS645\\\\see_db_dataset\\\\splits'\n",
    "\n",
    "def split_data(splits):\n",
    "    data_raw = pd.read_csv(r'C:\\\\Users\\\\Public\\\\CS645\\\\see_db_dataset\\\\adult.txt')\n",
    "    data_split = np.array_split(data_raw, splits)\n",
    "    for k in range(1, len(data_split)+1):\n",
    "        data_split[k-1].to_csv(os.path.join(PATH_SPLIT_DATA ,\"split_{}.csv\".format(k)),encoding='utf-8', index=False)\n",
    "\n",
    "split_data(10)"
   ]
  },
  {
   "cell_type": "code",
   "execution_count": 3,
   "id": "40de33c5",
   "metadata": {},
   "outputs": [],
   "source": [
    "con = ps.connect(\"dbname='see_db' user='postgres' host='localhost' password='bluemoon0512'\")\n",
    "curs = con.cursor()"
   ]
  },
  {
   "cell_type": "code",
   "execution_count": 4,
   "id": "f2a56c97",
   "metadata": {},
   "outputs": [
    {
     "data": {
      "image/png": "[encoded data removed]",
      "text/plain": [
       "<Figure size 432x288 with 1 Axes>"
      ]
     },
     "metadata": {
      "needs_background": "light"
     },
     "output_type": "display_data"
    }
   ],
   "source": [
    "curs.execute(\"\"\"create or replace view married as \n",
    "                   select * from census where marital_status in (' Married-AF-spouse', ' Married-civ-spouse', ' Married-spouse-absent',' Separated');\n",
    "           create or replace view unmarried as \n",
    "                   select * from census where marital_status in (' Never-married', ' Widowed',' Divorced');\"\"\")\n",
    "con.commit()\n",
    "\n",
    "curs.execute(\"select sex, avg(capital_gain) from married group by sex;\")\n",
    "target = curs.fetchall()\n",
    "\n",
    "curs.execute(\"select sex, avg(capital_gain) from unmarried group by sex;\")\n",
    "reference = curs.fetchall()\n",
    "\n",
    "def create_plot(afm, reference, target):\n",
    "    group_attr,function, measure = afm\n",
    "    plt.subplots()\n",
    "    graph1 = plt.bar(np.arange(len(target)), target.values(), 0.4, color = 'b', label = 'married')\n",
    "    graph2 = plt.bar(np.arange(len(target))+0.4, reference.values(), 0.4, color = 'y', label = 'unmarried')\n",
    "    \n",
    "    plt.xlabel('{}'.format(group_attr))\n",
    "    plt.ylabel('{}({})'.format(function, measure))\n",
    "    plt.xticks(np.arange(len(target))+0.4, target.keys())\n",
    "    plt.legend()\n",
    "\n",
    "    plt.show()\n",
    "\n",
    "afm_plot = ('sex', 'AVG', 'capital_gain')\n",
    "create_plot(afm_plot, dict(reference), dict(target))"
   ]
  },
  {
   "cell_type": "code",
   "execution_count": 5,
   "id": "5a62bf56",
   "metadata": {},
   "outputs": [],
   "source": [
    "def normalize(data):\n",
    "    if len(data) > 0:\n",
    "        return [(i - np.min(data)) / (np.max(data) - np.min(data)) for i in data]\n",
    "    return 0\n",
    "\n",
    "#K-L divergence\n",
    "def kl_divergence(ref_data, tar_data):\n",
    "    ref_nor = normalize(ref_data)\n",
    "    tar_nor = normalize(tar_data)\n",
    "    pro_ref = [i/np.sum(ref_nor) for i in ref_nor]\n",
    "    pro_tar = [i/np.sum(tar_nor) for i in tar_nor]\n",
    "    kl = np.sum([qi  * np.log(qi/pi) for qi, pi in zip(pro_tar, pro_ref) if pi>0 and qi>0])\n",
    "    return kl"
   ]
  },
  {
   "cell_type": "code",
   "execution_count": 6,
   "id": "21a0e550",
   "metadata": {},
   "outputs": [],
   "source": [
    "#phased execution\n",
    "\n",
    "for i in range(10):\n",
    "    curs.execute(\"\"\"create or replace view test{}_married as \n",
    "                   select * from test{} where marital_status in (' Married-AF-spouse', ' Married-civ-spouse', ' Married-spouse-absent',' Separated');\n",
    "               create or replace view test{}_unmarried as \n",
    "                   select * from test{} where marital_status in (' Never-married', ' Widowed',' Divorced');\"\"\".format(i+1,i+1,i+1,i+1))\n",
    "    con.commit()"
   ]
  },
  {
   "cell_type": "code",
   "execution_count": 35,
   "id": "f363416b",
   "metadata": {},
   "outputs": [],
   "source": [
    "funcs = ['sum', 'count', 'avg']\n",
    "group_by_col = [\"economic_indicator\", \"workclass\", \"occupation\", \"education\", \"race\", \"native_country\", \"sex\", \"relationship\"]\n",
    "measure_col = [\"capital_loss\", \"capital_gain\", \"age\", \"fnlwgt\", \"hours_per_week\"]\n",
    "\n",
    "views = {pos:combo for pos, combo in enumerate(list(iter.product(funcs, measure_col, group_by_col)))}\n",
    "tables = ['married', 'unmarried']"
   ]
  },
  {
   "cell_type": "code",
   "execution_count": 24,
   "id": "bb6d660d",
   "metadata": {},
   "outputs": [],
   "source": [
    "def share_based_optimization(tables, views, phase):\n",
    "    print(\"in share_based_optimization\")\n",
    "    kl_dict={}\n",
    "    for table in tables:\n",
    "        for i, (f, m, a) in views.items():\n",
    "            query=\"create or replace view vi_{} as select {}, {}({}) from test{}_{} group by {};\".format(table+\"_\"+str(i),a,f,m,phase,table,a)\n",
    "            curs.execute(query)\n",
    "            con.commit()\n",
    "            kl_dict[f+\"-\"+m+\"-\"+a]=[\"vi_\"+str(table+\"_\"+str(i))]\n",
    "    print(\"done\")\n",
    "    return kl_dict\n"
   ]
  },
  {
   "cell_type": "code",
   "execution_count": 16,
   "id": "41ce82c8",
   "metadata": {},
   "outputs": [],
   "source": [
    "def get_views_scores(views, curs):\n",
    "    print(\"running get view scores...\")\n",
    "    views_scores = dict()\n",
    "\n",
    "    for vid, (f, m, a) in views.items():\n",
    "        tgt_sql_query = 'SELECT * FROM vi_unmarried_{}'.format(vid)\n",
    "        curs.execute(tgt_sql_query)\n",
    "        data = curs.fetchall()\n",
    "        cols = [desc[0] for desc in curs.description]\n",
    "        tgt_df = pd.DataFrame(data, columns=cols)\n",
    "\n",
    "\n",
    "        ref_sql_query = 'SELECT * FROM vi_married_{}'.format(vid)\n",
    "        curs.execute(ref_sql_query)\n",
    "        data = curs.fetchall()\n",
    "        cols = [desc[0] for desc in curs.description]\n",
    "        ref_df = pd.DataFrame(data, columns=cols)\n",
    "\n",
    "        temp_df = tgt_df.join(ref_df.set_index(a), on=a, how='inner', lsuffix='_target', rsuffix='_reference')\n",
    "        \n",
    "\n",
    "        tgt_val = temp_df['{}_target'.format(f)].values\n",
    "        ref_val = temp_df['{}_reference'.format(f)].values\n",
    "\n",
    "        score = kl_divergence(tgt_val, ref_val)\n",
    "        views_scores[vid] = score\n",
    "    print(\"done\")\n",
    "    return views_scores\n"
   ]
  },
  {
   "cell_type": "code",
   "execution_count": 36,
   "id": "2487d496",
   "metadata": {},
   "outputs": [],
   "source": [
    "def pruning(views, phase):\n",
    "    delta = 0.05\n",
    "    N = 10\n",
    "    K = 5\n",
    "#     for i in range(10):\n",
    "    print(\"Pruning for i = \" + str(i))\n",
    "    m = i+1\n",
    "    if m == 1:\n",
    "        return views\n",
    "    eps = np.sqrt((0.5/m)*(1-((m-1)/N))*(2*np.log(np.log(m))+np.log((np.pi**2)/(3*delta))))\n",
    "    current_scores = get_views_scores(views, curs)\n",
    "    sorted_scores = {k: v for k, v in sorted(current_scores.items(), key=lambda item: item[1], reverse=True)}\n",
    "    top_k_smallest_lower_bound = np.mean(list(sorted_scores.values())[K]) - eps\n",
    "#         values = list(current_scores.values())\n",
    "#         mu = sum(values)/len(values)\n",
    "#         confidence_interval\n",
    "    \n",
    "    for k, v in sorted_scores.items():\n",
    "        if np.mean(v) + eps < top_k_smallest_lower_bound:\n",
    "            print(\"deleting view \" + str(k))\n",
    "            del views[k]\n",
    "    return views"
   ]
  },
  {
   "cell_type": "code",
   "execution_count": 37,
   "id": "4118ec93",
   "metadata": {},
   "outputs": [
    {
     "name": "stdout",
     "output_type": "stream",
     "text": [
      "in share_based_optimization\n",
      "done\n",
      "Pruning for i = 0\n",
      "in share_based_optimization\n",
      "done\n",
      "Pruning for i = 1\n",
      "running get view scores...\n",
      "done\n",
      "in share_based_optimization\n",
      "done\n",
      "Pruning for i = 2\n",
      "running get view scores...\n",
      "done\n",
      "in share_based_optimization\n",
      "done\n",
      "Pruning for i = 3\n",
      "running get view scores...\n",
      "done\n",
      "in share_based_optimization\n",
      "done\n",
      "Pruning for i = 4\n",
      "running get view scores...\n",
      "done\n",
      "in share_based_optimization\n",
      "done\n",
      "Pruning for i = 5\n",
      "running get view scores...\n",
      "done\n",
      "in share_based_optimization\n",
      "done\n",
      "Pruning for i = 6\n",
      "running get view scores...\n",
      "done\n",
      "in share_based_optimization\n",
      "done\n",
      "Pruning for i = 7\n",
      "running get view scores...\n",
      "done\n",
      "deleting view 89\n",
      "deleting view 84\n",
      "deleting view 95\n",
      "in share_based_optimization\n",
      "done\n",
      "Pruning for i = 8\n",
      "running get view scores...\n",
      "done\n",
      "deleting view 0\n",
      "deleting view 6\n",
      "deleting view 8\n",
      "deleting view 14\n",
      "deleting view 16\n",
      "deleting view 22\n",
      "deleting view 24\n",
      "deleting view 30\n",
      "deleting view 32\n",
      "deleting view 38\n",
      "deleting view 40\n",
      "deleting view 46\n",
      "deleting view 48\n",
      "deleting view 54\n",
      "deleting view 56\n",
      "deleting view 62\n",
      "deleting view 64\n",
      "deleting view 70\n",
      "deleting view 72\n",
      "deleting view 78\n",
      "deleting view 80\n",
      "deleting view 86\n",
      "deleting view 88\n",
      "deleting view 94\n",
      "deleting view 96\n",
      "deleting view 102\n",
      "deleting view 104\n",
      "deleting view 110\n",
      "deleting view 112\n",
      "deleting view 118\n",
      "deleting view 108\n",
      "deleting view 83\n",
      "deleting view 93\n",
      "deleting view 85\n",
      "deleting view 5\n",
      "deleting view 116\n",
      "deleting view 92\n",
      "in share_based_optimization\n",
      "done\n",
      "Pruning for i = 9\n",
      "running get view scores...\n",
      "done\n",
      "deleting view 29\n",
      "deleting view 19\n",
      "deleting view 35\n",
      "deleting view 41\n",
      "deleting view 49\n",
      "deleting view 57\n",
      "deleting view 65\n",
      "deleting view 73\n",
      "deleting view 33\n",
      "deleting view 25\n",
      "deleting view 97\n",
      "deleting view 17\n",
      "deleting view 9\n",
      "deleting view 21\n",
      "deleting view 28\n",
      "deleting view 20\n",
      "deleting view 36\n",
      "deleting view 44\n",
      "deleting view 52\n",
      "deleting view 60\n",
      "deleting view 68\n",
      "deleting view 76\n",
      "deleting view 37\n",
      "deleting view 113\n",
      "deleting view 45\n",
      "deleting view 53\n",
      "deleting view 61\n",
      "deleting view 69\n",
      "deleting view 77\n",
      "deleting view 114\n",
      "deleting view 103\n",
      "deleting view 107\n"
     ]
    }
   ],
   "source": [
    "for i in range(10):\n",
    "    kl_dicts = share_based_optimization(tables, views, i+1)\n",
    "    pruning(views, i+1)"
   ]
  },
  {
   "cell_type": "code",
   "execution_count": 38,
   "id": "6ef19d9e",
   "metadata": {},
   "outputs": [
    {
     "name": "stdout",
     "output_type": "stream",
     "text": [
      "running get view scores...\n",
      "done\n",
      "('avg', 'capital_loss', 'relationship')\n",
      "('sum', 'fnlwgt', 'relationship')\n",
      "('sum', 'capital_loss', 'relationship')\n",
      "('count', 'capital_loss', 'relationship')\n",
      "('count', 'capital_gain', 'relationship')\n",
      "('count', 'age', 'relationship')\n"
     ]
    }
   ],
   "source": [
    "# get top 5 views\n",
    "current_scores = get_views_scores(views, curs)\n",
    "top_views = {k: v for k, v in sorted(current_scores.items(), key=lambda item: item[1], reverse=True)[:6]}\n",
    "top_views\n",
    "for tp in top_views:\n",
    "    print(views[tp])"
   ]
  }
 ],
 "metadata": {
  "kernelspec": {
   "display_name": "Python 3 (ipykernel)",
   "language": "python",
   "name": "python3"
  },
  "language_info": {
   "codemirror_mode": {
    "name": "ipython",
    "version": 3
   },
   "file_extension": ".py",
   "mimetype": "text/x-python",
   "name": "python",
   "nbconvert_exporter": "python",
   "pygments_lexer": "ipython3",
   "version": "3.9.7"
  }
 },
 "nbformat": 4,
 "nbformat_minor": 5
}
