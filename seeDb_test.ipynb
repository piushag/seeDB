{
 "cells": [
  {
   "cell_type": "code",
   "execution_count": 44,
   "id": "cf2c455c",
   "metadata": {},
   "outputs": [],
   "source": [
    "import psycopg2 as ps\n",
    "import psycopg2.extras as e\n",
    "import matplotlib.pyplot as plt\n",
    "import numpy as np\n",
    "import pandas as pd\n",
    "import os\n",
    "import itertools as iter"
   ]
  },
  {
   "cell_type": "code",
   "execution_count": 15,
   "id": "ad2c6bfc",
   "metadata": {},
   "outputs": [],
   "source": [
    "\n",
    "PATH_SPLIT_DATA='/Users/piushagullapalli/Documents/Spring_22/645/Project/seeDb/seeDB/Data/splits'\n",
    "\n",
    "def split_data(splits):\n",
    "    data_raw = pd.read_csv(r'/Users/piushagullapalli/Documents/Spring_22/645/Project/seeDb/seeDB/Data/adult.data.txt')\n",
    "    data_split = np.array_split(data_raw, splits)\n",
    "    for k in range(1, len(data_split)+1):\n",
    "        data_split[k-1].to_csv(os.path.join(PATH_SPLIT_DATA ,\"split_{}.csv\".format(k)),encoding='utf-8', index=False)\n",
    "\n",
    "split_data(10)"
   ]
  },
  {
   "cell_type": "code",
   "execution_count": 131,
   "id": "40de33c5",
   "metadata": {},
   "outputs": [],
   "source": [
    "con = ps.connect(\"dbname='piushagullapalli' user='piushagullapalli' host='localhost' password=''\")\n",
    "curs = con.cursor()"
   ]
  },
  {
   "cell_type": "code",
   "execution_count": 109,
   "id": "f2a56c97",
   "metadata": {},
   "outputs": [
    {
     "data": {
      "image/png": "[encoded data removed]",
      "text/plain": [
       "<Figure size 432x288 with 1 Axes>"
      ]
     },
     "metadata": {
      "needs_background": "light"
     },
     "output_type": "display_data"
    }
   ],
   "source": [
    "curs.execute(\"\"\"create or replace view married as \n",
    "                   select * from census where marital_status in (' Married-AF-spouse', ' Married-civ-spouse', ' Married-spouse-absent',' Separated');\n",
    "           create or replace view unmarried as \n",
    "                   select * from census where marital_status in (' Never-married', ' Widowed',' Divorced');\"\"\")\n",
    "con.commit()\n",
    "\n",
    "curs.execute(\"select sex, avg(capital_gain) from married group by sex;\")\n",
    "target = curs.fetchall()\n",
    "\n",
    "curs.execute(\"select sex, avg(capital_gain) from unmarried group by sex;\")\n",
    "reference = curs.fetchall()\n",
    "\n",
    "def create_plot(afm, reference, target):\n",
    "    group_attr,function, measure = afm\n",
    "    plt.subplots()\n",
    "    graph1 = plt.bar(np.arange(len(target)), target.values(), 0.4, color = 'b', label = 'married')\n",
    "    graph2 = plt.bar(np.arange(len(target))+0.4, reference.values(), 0.4, color = 'y', label = 'unmarried')\n",
    "    \n",
    "    plt.xlabel('{}'.format(group_attr))\n",
    "    plt.ylabel('{}({})'.format(function, measure))\n",
    "    plt.xticks(np.arange(len(target))+0.4, target.keys(), rotation=90)\n",
    "    plt.legend()\n",
    "\n",
    "    plt.show()\n",
    "\n",
    "afm_plot = ('sex', 'AVG', 'capital_gain')\n",
    "create_plot(afm_plot, dict(reference), dict(target))"
   ]
  },
  {
   "cell_type": "code",
   "execution_count": 104,
   "id": "5a62bf56",
   "metadata": {},
   "outputs": [],
   "source": [
    "def normalize(data):\n",
    "    return data.reshape(-1)\n",
    "\n",
    "#K-L divergence\n",
    "def kl_divergence(ref_data, tar_data):\n",
    "    ref_nor = normalize(ref_data)\n",
    "    tar_nor = normalize(tar_data)\n",
    "    pro_ref = [i/np.sum(ref_nor) for i in ref_nor if sum(ref_nor)>0]\n",
    "    pro_tar = [i/np.sum(tar_nor) for i in tar_nor if sum(tar_nor)>0]\n",
    "    kl = np.sum([qi  * np.log(qi/pi) for qi, pi in zip(pro_tar, pro_ref) if pi>0 and qi>0])\n",
    "    return kl"
   ]
  },
  {
   "cell_type": "code",
   "execution_count": 40,
   "id": "21a0e550",
   "metadata": {},
   "outputs": [],
   "source": [
    "#phased execution\n",
    "\n",
    "for i in range(10):\n",
    "    curs.execute(\"\"\"create or replace view test{}_married as \n",
    "                   select * from test{} where marital_status in (' Married-AF-spouse', ' Married-civ-spouse', ' Married-spouse-absent',' Separated');\n",
    "               create or replace view test{}_unmarried as \n",
    "                   select * from test{} where marital_status in (' Never-married', ' Widowed',' Divorced');\"\"\".format(i+1,i+1,i+1,i+1))\n",
    "    con.commit()"
   ]
  },
  {
   "cell_type": "code",
   "execution_count": 115,
   "id": "f363416b",
   "metadata": {},
   "outputs": [
    {
     "name": "stdout",
     "output_type": "stream",
     "text": [
      "{0: ('capital_loss', 'economic_indicator'), 1: ('capital_loss', 'workclass'), 2: ('capital_loss', 'occupation'), 3: ('capital_loss', 'education'), 4: ('capital_loss', 'race'), 5: ('capital_loss', 'native_country'), 6: ('capital_loss', 'sex'), 7: ('capital_loss', 'relationship'), 8: ('capital_gain', 'economic_indicator'), 9: ('capital_gain', 'workclass'), 10: ('capital_gain', 'occupation'), 11: ('capital_gain', 'education'), 12: ('capital_gain', 'race'), 13: ('capital_gain', 'native_country'), 14: ('capital_gain', 'sex'), 15: ('capital_gain', 'relationship'), 16: ('age', 'economic_indicator'), 17: ('age', 'workclass'), 18: ('age', 'occupation'), 19: ('age', 'education'), 20: ('age', 'race'), 21: ('age', 'native_country'), 22: ('age', 'sex'), 23: ('age', 'relationship'), 24: ('fnlwgt', 'economic_indicator'), 25: ('fnlwgt', 'workclass'), 26: ('fnlwgt', 'occupation'), 27: ('fnlwgt', 'education'), 28: ('fnlwgt', 'race'), 29: ('fnlwgt', 'native_country'), 30: ('fnlwgt', 'sex'), 31: ('fnlwgt', 'relationship'), 32: ('hours_per_week', 'economic_indicator'), 33: ('hours_per_week', 'workclass'), 34: ('hours_per_week', 'occupation'), 35: ('hours_per_week', 'education'), 36: ('hours_per_week', 'race'), 37: ('hours_per_week', 'native_country'), 38: ('hours_per_week', 'sex'), 39: ('hours_per_week', 'relationship')}\n"
     ]
    }
   ],
   "source": [
    "group_by_col = [\"economic_indicator\", \"workclass\", \"occupation\", \"education\", \"race\", \"native_country\", \"sex\", \"relationship\"]\n",
    "measure_col = [\"capital_loss\", \"capital_gain\", \"age\", \"fnlwgt\", \"hours_per_week\"]\n",
    "\n",
    "views = {pos:combo for pos, combo in enumerate(list(iter.product(measure_col, group_by_col)))}\n",
    "print(views)"
   ]
  },
  {
   "cell_type": "code",
   "execution_count": 135,
   "id": "ca1c13ab",
   "metadata": {},
   "outputs": [],
   "source": [
    "def share_based_optimization(tables, views):\n",
    "    kl_dict={}\n",
    "    for table in tables:\n",
    "        for i, (m, a) in views.items():\n",
    "            query=\"create or replace view vi_{} as select {}, {}({}),{}({}),{}({}) from {} group by {};\".format(table+\"_\"+str(i),a,\"sum\",m,\"count\",m,\"avg\",m,table,a)\n",
    "            curs.execute(query)\n",
    "            con.commit()\n",
    "            kl_dict[a+\"-\"+m]=[\"vi_\"+str(table+\"_\"+str(i))]\n",
    "    return kl_dict\n"
   ]
  },
  {
   "cell_type": "code",
   "execution_count": null,
   "id": "a5f34351",
   "metadata": {},
   "outputs": [],
   "source": [
    "    "
   ]
  },
  {
   "cell_type": "code",
   "execution_count": null,
   "id": "535904ee",
   "metadata": {},
   "outputs": [],
   "source": []
  }
 ],
 "metadata": {
  "kernelspec": {
   "display_name": "Python 3 (ipykernel)",
   "language": "python",
   "name": "python3"
  },
  "language_info": {
   "codemirror_mode": {
    "name": "ipython",
    "version": 3
   },
   "file_extension": ".py",
   "mimetype": "text/x-python",
   "name": "python",
   "nbconvert_exporter": "python",
   "pygments_lexer": "ipython3",
   "version": "3.9.7"
  }
 },
 "nbformat": 4,
 "nbformat_minor": 5
}
