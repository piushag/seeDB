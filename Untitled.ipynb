{
 "cells": [
  {
   "cell_type": "code",
   "execution_count": 10,
   "id": "cf2c455c",
   "metadata": {},
   "outputs": [],
   "source": [
    "import psycopg2 as ps\n",
    "import psycopg2.extras as e\n",
    "import matplotlib.pyplot as plt\n",
    "import numpy as np\n",
    "import pandas as pd"
   ]
  },
  {
   "cell_type": "code",
   "execution_count": 12,
   "id": "f2a56c97",
   "metadata": {},
   "outputs": [
    {
     "data": {
      "image/png": "[encoded data removed]",
      "text/plain": [
       "<Figure size 432x288 with 1 Axes>"
      ]
     },
     "metadata": {
      "needs_background": "light"
     },
     "output_type": "display_data"
    }
   ],
   "source": [
    "# connect to database\n",
    "con = ps.connect(\"dbname='piushagullapalli' user='piushagullapalli' host='localhost' password=''\")\n",
    "cur = con.cursor()\n",
    "\n",
    "# select\n",
    "query = \"\"\"create or replace view zero_one as \n",
    "                   select * from venue where type in ('0', '1');\n",
    "           create or replace view three as \n",
    "                   select * from venue where type in ('3');\"\"\"\n",
    "cur.execute(query)\n",
    "con.commit()\n",
    "\n",
    "query = \"SELECT type, avg(year) FROM zero_one GROUP BY type;\"\n",
    "cur.execute(query)\n",
    "target_rows = cur.fetchall()\n",
    "\n",
    "query = \"SELECT type, avg(year) FROM three GROUP BY type;\"\n",
    "cur.execute(query)\n",
    "ref_rows = cur.fetchall()\n",
    "\n",
    "# util function to plot the view \n",
    "def visualize(target_data, ref_data, view_tuple):\n",
    "    n_groups = len(target_data)\n",
    "    group_by, measure, function = view_tuple\n",
    "\n",
    "    means_target = target_data.values()\n",
    "    means_ref = ref_data.values()\n",
    "\n",
    "    # create plot\n",
    "    fig, ax = plt.subplots()\n",
    "    index = np.arange(n_groups)\n",
    "    bar_width = 0.35\n",
    "    opacity = 0.8\n",
    "\n",
    "    rects1 = plt.bar(index, means_target, bar_width,\n",
    "                     alpha=opacity,\n",
    "                     color='b',\n",
    "                     label='zero_one')\n",
    "\n",
    "    rects2 = plt.bar(index + bar_width, means_ref, bar_width,\n",
    "                     alpha=opacity,\n",
    "                     color='g',\n",
    "                     label='three')\n",
    "\n",
    "    plt.xlabel('{}'.format(group_by))\n",
    "    plt.ylabel('{}({})'.format(function, measure))\n",
    "    plt.xticks(index + bar_width, target_data.keys(), rotation=45)\n",
    "    plt.legend()\n",
    "\n",
    "    plt.tight_layout()\n",
    "    plt.show()\n",
    "\n",
    "\n",
    "view_tuple = ('type', 'year', 'AVG')\n",
    "visualize(dict(target_rows), dict(ref_rows), view_tuple)"
   ]
  },
  {
   "cell_type": "code",
   "execution_count": null,
   "id": "5a62bf56",
   "metadata": {},
   "outputs": [],
   "source": []
  },
  {
   "cell_type": "code",
   "execution_count": null,
   "id": "21a0e550",
   "metadata": {},
   "outputs": [],
   "source": []
  },
  {
   "cell_type": "code",
   "execution_count": null,
   "id": "f363416b",
   "metadata": {},
   "outputs": [],
   "source": []
  }
 ],
 "metadata": {
  "kernelspec": {
   "display_name": "Python 3 (ipykernel)",
   "language": "python",
   "name": "python3"
  },
  "language_info": {
   "codemirror_mode": {
    "name": "ipython",
    "version": 3
   },
   "file_extension": ".py",
   "mimetype": "text/x-python",
   "name": "python",
   "nbconvert_exporter": "python",
   "pygments_lexer": "ipython3",
   "version": "3.9.7"
  }
 },
 "nbformat": 4,
 "nbformat_minor": 5
}
